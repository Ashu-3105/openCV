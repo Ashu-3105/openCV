{
 "cells": [
  {
   "cell_type": "code",
   "execution_count": 1,
   "id": "78d58e3c",
   "metadata": {},
   "outputs": [],
   "source": [
    "# how to save an image to our directory\n",
    "import cv2\n",
    "import os"
   ]
  },
  {
   "cell_type": "code",
   "execution_count": 2,
   "id": "aa99e5d4",
   "metadata": {},
   "outputs": [],
   "source": [
    "image_path=r'C:\\Users\\ashut\\Downloads\\IMG-20210404-WA0026.jpg'\n",
    "directory=r'C:\\Users\\ashut\\ML Notes\\6 Month internship AIT\\OpenCv'\n",
    "img=cv2.imread(image_path)"
   ]
  },
  {
   "cell_type": "code",
   "execution_count": 3,
   "id": "90138c22",
   "metadata": {
    "scrolled": true
   },
   "outputs": [
    {
     "name": "stdout",
     "output_type": "stream",
     "text": [
      "before saving image: \n",
      "['.ipynb_checkpoints', '.jovianrc', 'Ashu.png', 'OpenCV-1.ipynb', 'opencv2.ipynb', 'pic.png']\n"
     ]
    }
   ],
   "source": [
    "os.chdir(directory)\n",
    "print(\"before saving image: \")\n",
    "print(os.listdir(directory))"
   ]
  },
  {
   "cell_type": "code",
   "execution_count": 4,
   "id": "884e1d6f",
   "metadata": {},
   "outputs": [
    {
     "data": {
      "text/plain": [
       "True"
      ]
     },
     "execution_count": 4,
     "metadata": {},
     "output_type": "execute_result"
    }
   ],
   "source": [
    "filename='Ashu.png'\n",
    "cv2.imwrite(filename,img)"
   ]
  },
  {
   "cell_type": "code",
   "execution_count": 5,
   "id": "3c46209b",
   "metadata": {},
   "outputs": [
    {
     "name": "stdout",
     "output_type": "stream",
     "text": [
      "After saving image: \n",
      "['.ipynb_checkpoints', '.jovianrc', 'Ashu.png', 'OpenCV-1.ipynb', 'opencv2.ipynb', 'pic.png']\n",
      "succefully saved\n"
     ]
    }
   ],
   "source": [
    "print(\"After saving image: \")\n",
    "print(os.listdir(directory))\n",
    "print('succefully saved')"
   ]
  },
  {
   "cell_type": "code",
   "execution_count": null,
   "id": "2933a35d",
   "metadata": {},
   "outputs": [],
   "source": []
  }
 ],
 "metadata": {
  "kernelspec": {
   "display_name": "Python 3 (ipykernel)",
   "language": "python",
   "name": "python3"
  },
  "language_info": {
   "codemirror_mode": {
    "name": "ipython",
    "version": 3
   },
   "file_extension": ".py",
   "mimetype": "text/x-python",
   "name": "python",
   "nbconvert_exporter": "python",
   "pygments_lexer": "ipython3",
   "version": "3.9.12"
  }
 },
 "nbformat": 4,
 "nbformat_minor": 5
}
