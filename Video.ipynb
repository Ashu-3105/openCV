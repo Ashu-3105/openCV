{
 "cells": [
  {
   "cell_type": "markdown",
   "id": "44484071",
   "metadata": {},
   "source": [
    "Let’s see how to play a video using the OpenCV Python. To capture a video, we need to create a VideoCapture object. VideoCapture have the device index or the name of a video file. Device index is just the number to specify which camera. If we pass 0 then it is for first camera, 1 for second camera so on. We capture the video frame by frame.\n",
    "\n",
    "#### Syntax\n",
    "\n",
    "cv2.VideoCapture(0): Means first camera or webcam.\n",
    "\n",
    "cv2.VideoCapture(1):  Means second camera or webcam.\n",
    "\n",
    "cv2.VideoCapture(“file name.mp4”): Means video file\n",
    "\n",
    "#### Steps to capture a video:\n",
    "\n",
    "Use cv2.VideoCapture() to get a video capture object for the camera.\n",
    "\n",
    "Set up an infinite while loop and use the read() method to read the frames using the above created object.\n",
    "\n",
    "Use cv2.imshow() method to show the frames in the video.\n",
    "\n",
    "Breaks the loop when the user clicks a specific key."
   ]
  },
  {
   "cell_type": "code",
   "execution_count": null,
   "id": "8a9dfbbb",
   "metadata": {},
   "outputs": [],
   "source": []
  }
 ],
 "metadata": {
  "kernelspec": {
   "display_name": "Python 3 (ipykernel)",
   "language": "python",
   "name": "python3"
  },
  "language_info": {
   "codemirror_mode": {
    "name": "ipython",
    "version": 3
   },
   "file_extension": ".py",
   "mimetype": "text/x-python",
   "name": "python",
   "nbconvert_exporter": "python",
   "pygments_lexer": "ipython3",
   "version": "3.9.12"
  }
 },
 "nbformat": 4,
 "nbformat_minor": 5
}
