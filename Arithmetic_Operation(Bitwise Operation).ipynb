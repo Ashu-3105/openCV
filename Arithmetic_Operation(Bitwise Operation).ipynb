{
 "cells": [
  {
   "cell_type": "code",
   "execution_count": 1,
   "id": "24cbde56",
   "metadata": {},
   "outputs": [],
   "source": [
    "import cv2\n",
    "import numpy as np"
   ]
  },
  {
   "cell_type": "code",
   "execution_count": 2,
   "id": "5ee48196",
   "metadata": {},
   "outputs": [
    {
     "data": {
      "text/plain": [
       "-1"
      ]
     },
     "execution_count": 2,
     "metadata": {},
     "output_type": "execute_result"
    }
   ],
   "source": [
    "image1=cv2.imread('1bit1.png')\n",
    "cv2.imshow('Image 1',image1)\n",
    "cv2.waitKey(0)\n",
    "image2=cv2.imread('2bit2.png')\n",
    "cv2.imshow('Image 2',image2)\n",
    "cv2.waitKey(0)"
   ]
  },
  {
   "cell_type": "code",
   "execution_count": 3,
   "id": "0edcf968",
   "metadata": {},
   "outputs": [],
   "source": [
    "and_op=cv2.bitwise_and(image1,image2)\n",
    "cv2.imshow('And',and_op)\n",
    "cv2.waitKey(0)\n",
    "or_op=cv2.bitwise_or(image1,image2)\n",
    "cv2.imshow('OR',or_op)\n",
    "cv2.waitKey(0)\n",
    "xor_op=cv2.bitwise_xor(image1,image2)\n",
    "cv2.imshow('XOR',xor_op)\n",
    "cv2.waitKey(0)\n",
    "not_op=cv2.bitwise_not(image1)\n",
    "cv2.imshow('NOT',not_op)\n",
    "cv2.waitKey(0)\n",
    "not_operator=cv2.bitwise_not(image2)\n",
    "cv2.imshow('NOT',not_operator)\n",
    "cv2.waitKey(0)\n",
    "cv2.destroyAllWindows()"
   ]
  },
  {
   "cell_type": "code",
   "execution_count": null,
   "id": "e0c1d741",
   "metadata": {},
   "outputs": [],
   "source": []
  }
 ],
 "metadata": {
  "kernelspec": {
   "display_name": "Python 3 (ipykernel)",
   "language": "python",
   "name": "python3"
  },
  "language_info": {
   "codemirror_mode": {
    "name": "ipython",
    "version": 3
   },
   "file_extension": ".py",
   "mimetype": "text/x-python",
   "name": "python",
   "nbconvert_exporter": "python",
   "pygments_lexer": "ipython3",
   "version": "3.9.12"
  }
 },
 "nbformat": 4,
 "nbformat_minor": 5
}
