{
 "cells": [
  {
   "cell_type": "markdown",
   "id": "2686e35b",
   "metadata": {},
   "source": [
    "## copyMakeBorder() method is used to create a border around the image like a photo frame. \n",
    "\n",
    "## Syntax: cv2.copyMakeBorder(src, top, bottom, left, right, borderType, value)\n",
    "\n",
    "### Parameters: \n",
    "src: It is the source image.\n",
    "\n",
    "top: It is the border width in number of pixels in top direction. \n",
    "\n",
    "bottom: It is the border width in number of pixels in bottom direction. \n",
    "\n",
    "left: It is the border width in number of pixels in left direction. \n",
    "\n",
    "right: It is the border width in number of pixels in right direction.\n",
    "\n",
    "borderType: It depicts what kind of border to be added. It is defined by flags like cv2.BORDER_CONSTANT, cv2.BORDER_REFLECT, etc\n",
    "dest: It is the destination image\n",
    "value: It is an optional parameter which depicts color of border if border type is cv2.BORDER_CONSTANT.\n",
    "\n",
    "\n",
    "Return Value: It returns an image. \n"
   ]
  },
  {
   "cell_type": "markdown",
   "id": "e904d191",
   "metadata": {},
   "source": [
    "### The borderType flags are described below: \n",
    "#### cv2.BORDER_CONSTANT:\n",
    "                 It adds a constant colored border. The value should be given as a keyword argument\n",
    "                 \n",
    "#### cv2.BORDER_REFLECT:\n",
    "The border will be mirror reflection of the border elements. Suppose, if image contains letters “abcdefg” then output will be “gfedcba|abcdefg|gfedcba“. \n",
    "\n",
    "#### cv2.BORDER_REFLECT_101 or cv2.BORDER_DEFAULT:\n",
    "                    It does the same works as cv2.BORDER_REFLECT but with slight change. Suppose, if image contains letters “abcdefgh” then output will be “gfedcb|abcdefgh|gfedcba“. \n",
    "#### cv2.BORDER_REPLICATE:\n",
    "                     It replicates the last element. Suppose, if image contains letters “abcdefgh” then output will be “aaaaa|abcdefgh|hhhhh“. \n",
    "  "
   ]
  },
  {
   "cell_type": "code",
   "execution_count": 5,
   "id": "113e0a17",
   "metadata": {},
   "outputs": [
    {
     "ename": "error",
     "evalue": "OpenCV(4.9.0) D:\\a\\opencv-python\\opencv-python\\opencv\\modules\\highgui\\src\\window.cpp:971: error: (-215:Assertion failed) size.width>0 && size.height>0 in function 'cv::imshow'\n",
     "output_type": "error",
     "traceback": [
      "\u001b[1;31m---------------------------------------------------------------------------\u001b[0m",
      "\u001b[1;31merror\u001b[0m                                     Traceback (most recent call last)",
      "Input \u001b[1;32mIn [5]\u001b[0m, in \u001b[0;36m<cell line: 9>\u001b[1;34m()\u001b[0m\n\u001b[0;32m      7\u001b[0m \u001b[38;5;66;03m# Reading an image  \u001b[39;00m\n\u001b[0;32m      8\u001b[0m image \u001b[38;5;241m=\u001b[39m cv2\u001b[38;5;241m.\u001b[39mimread(\u001b[38;5;124m'\u001b[39m\u001b[38;5;124mimage1.png\u001b[39m\u001b[38;5;124m'\u001b[39m) \n\u001b[1;32m----> 9\u001b[0m \u001b[43mcv2\u001b[49m\u001b[38;5;241;43m.\u001b[39;49m\u001b[43mimshow\u001b[49m\u001b[43m(\u001b[49m\u001b[38;5;124;43m'\u001b[39;49m\u001b[38;5;124;43mimage\u001b[39;49m\u001b[38;5;124;43m'\u001b[39;49m\u001b[43m,\u001b[49m\u001b[43mimage\u001b[49m\u001b[43m)\u001b[49m\n\u001b[0;32m     10\u001b[0m cv2\u001b[38;5;241m.\u001b[39mwaitKey(\u001b[38;5;241m0\u001b[39m)\n\u001b[0;32m     12\u001b[0m \u001b[38;5;66;03m# Window name in which image is displayed \u001b[39;00m\n",
      "\u001b[1;31merror\u001b[0m: OpenCV(4.9.0) D:\\a\\opencv-python\\opencv-python\\opencv\\modules\\highgui\\src\\window.cpp:971: error: (-215:Assertion failed) size.width>0 && size.height>0 in function 'cv::imshow'\n"
     ]
    }
   ],
   "source": [
    "# Python program to explain cv2.copyMakeBorder() method \n",
    "\n",
    "# importing cv2 \n",
    "import cv2 \n",
    "\n",
    " \n",
    "# Reading an image  \n",
    "image = cv2.imread('image1.png') \n",
    "cv2.imshow('image',image)\n",
    "cv2.waitKey(0)\n",
    "\n",
    "# Window name in which image is displayed \n",
    "window_name = 'Image'\n",
    "\n",
    "# Using cv2.copyMakeBorder() method \n",
    "image = cv2.copyMakeBorder(image, 10, 10, 10, 10, cv2.BORDER_CONSTANT, None, value = 0) \n",
    "\n",
    "# Displaying the image \n",
    "cv2.imshow(window_name, image) \n",
    "cv2.waitKey(0)"
   ]
  },
  {
   "cell_type": "code",
   "execution_count": null,
   "id": "5faf86b1",
   "metadata": {},
   "outputs": [],
   "source": []
  }
 ],
 "metadata": {
  "kernelspec": {
   "display_name": "Python 3 (ipykernel)",
   "language": "python",
   "name": "python3"
  },
  "language_info": {
   "codemirror_mode": {
    "name": "ipython",
    "version": 3
   },
   "file_extension": ".py",
   "mimetype": "text/x-python",
   "name": "python",
   "nbconvert_exporter": "python",
   "pygments_lexer": "ipython3",
   "version": "3.9.12"
  }
 },
 "nbformat": 4,
 "nbformat_minor": 5
}
