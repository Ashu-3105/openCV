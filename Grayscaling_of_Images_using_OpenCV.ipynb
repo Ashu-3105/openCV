{
 "cells": [
  {
   "cell_type": "markdown",
   "id": "fddc4ef4",
   "metadata": {},
   "source": [
    "### Grayscaling is the process of converting an image from other color spaces e.g. RGB, CMYK, HSV, etc. to shades of gray. It varies between complete black and complete white.\n",
    "\n",
    "## Importance of grayscaling \n",
    "#### Dimension reduction:\n",
    "For example, In RGB images there are three color channels and three dimensions while grayscale images are single-dimensional.\n",
    "\n",
    "#### Reduces model complexity:\n",
    "Consider training neural articles on RGB images of 10x10x3 pixels. The input layer will have 300 input nodes. On the other hand, the same neural network will need only 100 input nodes for grayscale images.\n",
    "\n",
    "#### For other algorithms to work:\n",
    "Many algorithms are customized to work only on grayscale images e.g. Canny edge detection function pre-implemented in the OpenCV library works on Grayscale images only. "
   ]
  },
  {
   "cell_type": "markdown",
   "id": "9e0e0a43",
   "metadata": {},
   "source": [
    "## Method 1: Using the cv2.cvtColor() function\n",
    " "
   ]
  },
  {
   "cell_type": "code",
   "execution_count": 1,
   "id": "83ae0ad5",
   "metadata": {},
   "outputs": [],
   "source": [
    "# import opencv \n",
    "import cv2 \n",
    "\n",
    "# Load the input image \n",
    "image = cv2.imread('pic.png') \n",
    "cv2.imshow('Original', image) \n",
    "cv2.waitKey(0) \n",
    "\n",
    "# Use the cvtColor() function to grayscale the image \n",
    "gray_image = cv2.cvtColor(image, cv2.COLOR_BGR2GRAY) \n",
    "\n",
    "cv2.imshow('Grayscale', gray_image) \n",
    "cv2.waitKey(0) \n",
    "\n",
    "# Window shown waits for any key pressing event \n",
    "cv2.destroyAllWindows()\n"
   ]
  },
  {
   "cell_type": "markdown",
   "id": "12dba2a3",
   "metadata": {},
   "source": [
    "## Method 2: Using the cv2.imread() function with flag=zero\n",
    " "
   ]
  },
  {
   "cell_type": "code",
   "execution_count": 4,
   "id": "8ec25bbf",
   "metadata": {},
   "outputs": [],
   "source": [
    "image=cv2.imread('pic.png')\n",
    "cv2.imshow('without grayscale',image)\n",
    "cv2.waitKey(0) \n",
    "cv2.destroyAllWindows()\n",
    "# Use the second argument or (flag value) zero \n",
    "# that specifies the image is to be read in grayscale mode \n",
    "\n",
    "img = cv2.imread('pic.png', 0) \n",
    "\n",
    "cv2.imshow('Grayscale Image', img) \n",
    "cv2.waitKey(0) \n",
    "\n",
    "# Window shown waits for any key pressing event \n",
    "cv2.destroyAllWindows()\n"
   ]
  },
  {
   "cell_type": "markdown",
   "id": "adc98454",
   "metadata": {},
   "source": [
    "## Method 3: Using the pixel manipulation (Average method)\n",
    " "
   ]
  },
  {
   "cell_type": "code",
   "execution_count": 6,
   "id": "378fd051",
   "metadata": {},
   "outputs": [],
   "source": [
    "image=cv2.imread('pic.png')\n",
    "cv2.imshow('without grayscale',image)\n",
    "cv2.waitKey(0) \n",
    "cv2.destroyAllWindows()\n",
    "# Load the input image \n",
    "img = cv2.imread('pic.png') \n",
    "  \n",
    "# Obtain the dimensions of the image array \n",
    "# using the shape method \n",
    "(row, col) = img.shape[0:2] \n",
    "  \n",
    "# Take the average of pixel values of the BGR Channels \n",
    "# to convert the colored image to grayscale image \n",
    "for i in range(row): \n",
    "    for j in range(col): \n",
    "        # Find the average of the BGR pixel values \n",
    "        img[i, j] = sum(img[i, j]) * 0.33\n",
    "cv2.imshow('Grayscale Image', img) \n",
    "cv2.waitKey(0) \n",
    "  \n",
    "# Window shown waits for any key pressing event \n",
    "cv2.destroyAllWindows() "
   ]
  },
  {
   "cell_type": "code",
   "execution_count": null,
   "id": "1aa77a1e",
   "metadata": {},
   "outputs": [],
   "source": []
  }
 ],
 "metadata": {
  "kernelspec": {
   "display_name": "Python 3 (ipykernel)",
   "language": "python",
   "name": "python3"
  },
  "language_info": {
   "codemirror_mode": {
    "name": "ipython",
    "version": 3
   },
   "file_extension": ".py",
   "mimetype": "text/x-python",
   "name": "python",
   "nbconvert_exporter": "python",
   "pygments_lexer": "ipython3",
   "version": "3.9.12"
  }
 },
 "nbformat": 4,
 "nbformat_minor": 5
}
