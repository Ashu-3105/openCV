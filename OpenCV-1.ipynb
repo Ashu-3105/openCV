{
 "cells": [
  {
   "cell_type": "code",
   "execution_count": 1,
   "id": "ae092f6f",
   "metadata": {},
   "outputs": [],
   "source": [
    "import numpy as np \n",
    "import pandas as pd\n",
    "import cv2"
   ]
  },
  {
   "cell_type": "code",
   "execution_count": 2,
   "id": "629053f4",
   "metadata": {},
   "outputs": [
    {
     "data": {
      "text/plain": [
       "-1"
      ]
     },
     "execution_count": 2,
     "metadata": {},
     "output_type": "execute_result"
    }
   ],
   "source": [
    "# reading image by cv2\n",
    "input=cv2.imread('pic.png')\n",
    "cv2.imshow('image',input)\n",
    "cv2.waitKey()\n"
   ]
  },
  {
   "cell_type": "code",
   "execution_count": 3,
   "id": "8c522bc6",
   "metadata": {},
   "outputs": [],
   "source": [
    "cv2.destroyAllWindows()"
   ]
  },
  {
   "cell_type": "code",
   "execution_count": 4,
   "id": "4211c86f",
   "metadata": {},
   "outputs": [
    {
     "data": {
      "text/plain": [
       "(141, 200, 3)"
      ]
     },
     "execution_count": 4,
     "metadata": {},
     "output_type": "execute_result"
    }
   ],
   "source": [
    "input.shape"
   ]
  },
  {
   "cell_type": "code",
   "execution_count": 5,
   "id": "90646ec1",
   "metadata": {},
   "outputs": [],
   "source": [
    "# # Reading image by matplotlib library\n",
    "# import matplotlib.pyplot as plt\n",
    "# image=cv2.imread('pic.png')\n",
    "# plt.imshow(image)\n",
    "# plt.waitforbuttonpress()\n",
    "# plt.close('all')"
   ]
  },
  {
   "cell_type": "code",
   "execution_count": 6,
   "id": "e3cd3375",
   "metadata": {},
   "outputs": [],
   "source": [
    "# # Program to convert BGR to RGB Format\n",
    "# Rgb_image=cv2.cvtColor(input,cv2.COLOR_BGR2RGB)\n",
    "# plt.imshow(Rgb_image)\n",
    "# plt.waitforbuttonpress()\n",
    "# plt.close('all')"
   ]
  },
  {
   "cell_type": "code",
   "execution_count": 9,
   "id": "4cf848c9",
   "metadata": {},
   "outputs": [],
   "source": [
    "# opening in grayscale mode\n",
    "images=cv2.imread('pic.png',cv2.IMREAD_GRAYSCALE)\n",
    "cv2.imshow('pic',images)\n",
    "cv2.waitKey(0)\n",
    "cv2.destroyAllWindows()"
   ]
  },
  {
   "cell_type": "code",
   "execution_count": null,
   "id": "e3775c0d",
   "metadata": {},
   "outputs": [],
   "source": []
  }
 ],
 "metadata": {
  "kernelspec": {
   "display_name": "Python 3 (ipykernel)",
   "language": "python",
   "name": "python3"
  },
  "language_info": {
   "codemirror_mode": {
    "name": "ipython",
    "version": 3
   },
   "file_extension": ".py",
   "mimetype": "text/x-python",
   "name": "python",
   "nbconvert_exporter": "python",
   "pygments_lexer": "ipython3",
   "version": "3.9.12"
  }
 },
 "nbformat": 4,
 "nbformat_minor": 5
}
